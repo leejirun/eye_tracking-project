{
 "cells": [
  {
   "cell_type": "code",
   "execution_count": 1,
   "metadata": {},
   "outputs": [],
   "source": [
    "import cv2\n",
    "import numpy as np\n",
    "import matplotlib.pyplot as plt\n",
    "import time\n",
    "import datetime"
   ]
  },
  {
   "cell_type": "code",
   "execution_count": 2,
   "metadata": {},
   "outputs": [],
   "source": [
    "#동영상 파일(vod)를 불러와서 실시간 이미지처리 후 재생하는 방법\n",
    "#mjpeg와 유사\n",
    "#mjpeg란? motion jpeg 또는 mjpeg는 스틸 사진(정지사진)을 위한 jpeg 표준의 비디오 형식\n",
    "\n",
    "video = cv2.VideoCapture('./test_video.mp4')"
   ]
  },
  {
   "cell_type": "code",
   "execution_count": 3,
   "metadata": {},
   "outputs": [],
   "source": [
    "#비디오의 한 프레임씩 처리해서 출력\n",
    "#video 이 정상적으로 open이 되었는지 확인하기 위해서 video.isOpen() 으로 확인가능\n",
    "while(video.isOpened()):\n",
    "    # ret : frame capture결과(boolean)\n",
    "    # frame : Capture한 frame\n",
    "    ret, frame = video.read()\n",
    "    \n",
    "    if ret:\n",
    "        now = datetime.datetime.now() # 현재시간  불러오기\n",
    "        text_frame = cv2.putText(frame, str(now), (10,30), cv2.FONT_HERSHEY_SIMPLEX, 1, (255,0,0), 3, cv2.LINE_AA)\n",
    "        cv2.imshow('video', text_frame)\n",
    "        time.sleep(0.1) #0.1초씩 쉬도록 만들기\n",
    "        \n",
    "        if cv2.waitKey(1) & 0xFF == ord('q'):\n",
    "            break\n",
    "    else:\n",
    "        break\n",
    "video.release() # 현재 잡고 있는 것을 해제\n",
    "cv2.destroyAllWindows() #opencv를 통해서 켠 창 끄기"
   ]
  },
  {
   "cell_type": "code",
   "execution_count": null,
   "metadata": {},
   "outputs": [],
   "source": []
  }
 ],
 "metadata": {
  "kernelspec": {
   "display_name": "Python 3",
   "language": "python",
   "name": "python3"
  },
  "language_info": {
   "codemirror_mode": {
    "name": "ipython",
    "version": 3
   },
   "file_extension": ".py",
   "mimetype": "text/x-python",
   "name": "python",
   "nbconvert_exporter": "python",
   "pygments_lexer": "ipython3",
   "version": "3.8.5"
  }
 },
 "nbformat": 4,
 "nbformat_minor": 4
}
