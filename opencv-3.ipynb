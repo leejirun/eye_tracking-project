{
 "cells": [
  {
   "cell_type": "code",
   "execution_count": 1,
   "metadata": {},
   "outputs": [],
   "source": [
    "import cv2\n",
    "import numpy as np\n",
    "import matplotlib.pyplot as plt\n",
    "import time\n",
    "import datetime"
   ]
  },
  {
   "cell_type": "code",
   "execution_count": 2,
   "metadata": {},
   "outputs": [],
   "source": [
    "#VideoCapture(0) : 자신의 기기 웹캠 불러옴\n",
    "stream = cv2.VideoCapture(0)"
   ]
  },
  {
   "cell_type": "code",
   "execution_count": 3,
   "metadata": {},
   "outputs": [],
   "source": [
    "while(stream.isOpened()):\n",
    "    ret, frame = stream.read()\n",
    "    \n",
    "    if ret:\n",
    "        now = datetime.datetime.now()\n",
    "        \n",
    "        #frame 크기 조정\n",
    "        #resize_frame = cv2.resize(text_frame ,None, fx=2, fy=2, interpolation=cv2.INTER_LINEAR) # 키울 그림, \n",
    "        \n",
    "        #그림 반전, 뒤집기\n",
    "        #0: x축으로 뒤집기/1:y축으로 뒤집기/-1:두 축 다 뒤집기\n",
    "        flip_frame = cv2.flip(frame,1) \n",
    "        text_frame = cv2.putText(flip_frame, str(now), (10,30) ,cv2.FONT_HERSHEY_SIMPLEX,1, (0,255,255), 1, cv2.LINE_AA)\n",
    "        resize_frame = cv2.resize(text_frame , dsize = (1920,1280), interpolation=cv2.INTER_LINEAR) # 키울 그림, dsize - 자신의 해상도 결정 \n",
    "\n",
    "        cv2.imshow('cam', resize_frame)\n",
    "        \n",
    "        if cv2.waitKey(1) & 0xFF == ord('q'):\n",
    "            break\n",
    "    else:\n",
    "        break\n",
    "\n",
    "stream.release() # 현재 잡고 있는 것을 해제\n",
    "cv2.destroyAllWindows() #opencv를 통해서 켠 창 끄기"
   ]
  }
 ],
 "metadata": {
  "kernelspec": {
   "display_name": "Python 3",
   "language": "python",
   "name": "python3"
  },
  "language_info": {
   "codemirror_mode": {
    "name": "ipython",
    "version": 3
   },
   "file_extension": ".py",
   "mimetype": "text/x-python",
   "name": "python",
   "nbconvert_exporter": "python",
   "pygments_lexer": "ipython3",
   "version": "3.8.5"
  }
 },
 "nbformat": 4,
 "nbformat_minor": 4
}
