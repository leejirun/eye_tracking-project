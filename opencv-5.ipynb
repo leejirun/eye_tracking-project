{
 "cells": [
  {
   "cell_type": "code",
   "execution_count": 2,
   "metadata": {},
   "outputs": [],
   "source": [
    "#keras : 딥러닝 모델을 훈련시키거나 모델을 로드하여 분류, 예측하는 프레임워크\n",
    "#keras중 cnn: 딥러닝 알고리즘 중 이미지를 분류하고 인식하는데 효율적인 알고리즘 중 하나\n",
    "#numpy : 행렬 연산을 가능하게 해주는 파이썬 라이브러리\n",
    "#matplotlib : 수학적인 그래프를 그려주는 라이브러리 \n",
    "#cnn개념"
   ]
  },
  {
   "cell_type": "code",
   "execution_count": 3,
   "metadata": {},
   "outputs": [],
   "source": [
    "import datetime\n",
    "import numpy as np\n",
    "import matplotlib.pyplot as plt\n",
    "from keras.layers import Input, Activation, Conv2D, Flatten, Dense, MaxPooling2D\n",
    "from keras.models import Model, load_model\n",
    "from keras.preprocessing.image import ImageDataGenerator\n",
    "from keras.callbacks import ModelCheckpoint, ReduceLROnPlateau\n",
    "plt.style.use('dark_background')"
   ]
  },
  {
   "cell_type": "code",
   "execution_count": 4,
   "metadata": {},
   "outputs": [
    {
     "name": "stdout",
     "output_type": "stream",
     "text": [
      "왼쪽\n",
      "(2586, 26, 34, 1) (2586, 1)\n",
      "(288, 26, 34, 1) (288, 1)\n",
      "오른쪽\n",
      "(2586, 26, 34, 1) (2586, 1)\n",
      "(288, 26, 34, 1) (288, 1)\n"
     ]
    }
   ],
   "source": [
    "#왼쪽\n",
    "left_x_train = np.load('datas/np_data/left_x_train.npy').astype(np.float32)\n",
    "left_y_train = np.load('datas/np_data/left_y_train.npy').astype(np.float32)\n",
    "left_x_val = np.load('datas/np_data/left_x_val.npy').astype(np.float32)\n",
    "left_y_val = np.load('datas/np_data/left_y_val.npy').astype(np.float32)\n",
    "\n",
    "#오른쪽\n",
    "right_x_train = np.load('datas/np_data/right_x_train.npy').astype(np.float32)\n",
    "right_y_train = np.load('datas/np_data/right_y_train.npy').astype(np.float32)\n",
    "right_x_val = np.load('datas/np_data/right_x_val.npy').astype(np.float32)\n",
    "right_y_val = np.load('datas/np_data/right_y_val.npy').astype(np.float32) # astype(타입형태) 원하는 형태의 타입으로 변경(int, float)\n",
    "\n",
    "print(\"왼쪽\")\n",
    "print(left_x_train.shape, left_y_train.shape)\n",
    "print(left_x_val.shape, left_y_val.shape)\n",
    "\n",
    "print(\"오른쪽\")\n",
    "print(right_x_train.shape, right_y_train.shape)\n",
    "print(right_x_val.shape, right_y_val.shape)"
   ]
  },
  {
   "cell_type": "code",
   "execution_count": 11,
   "metadata": {},
   "outputs": [
    {
     "data": {
      "text/plain": [
       "<matplotlib.image.AxesImage at 0x7fd4a543b6a0>"
      ]
     },
     "execution_count": 11,
     "metadata": {},
     "output_type": "execute_result"
    },
    {
     "data": {
      "image/png": "[encoded data removed]",
      "text/plain": [
       "<Figure size 432x288 with 1 Axes>"
      ]
     },
     "metadata": {},
     "output_type": "display_data"
    }
   ],
   "source": [
    "plt.imshow(left_x_train[105], cmap='gray')"
   ]
  },
  {
   "cell_type": "code",
   "execution_count": 12,
   "metadata": {},
   "outputs": [
    {
     "data": {
      "text/plain": [
       "array([0.], dtype=float32)"
      ]
     },
     "execution_count": 12,
     "metadata": {},
     "output_type": "execute_result"
    }
   ],
   "source": [
    "left_y_train[105] #y는 라벨링 데이터 0(감은눈) 또는 1(뜬눈)"
   ]
  },
  {
   "cell_type": "code",
   "execution_count": 15,
   "metadata": {},
   "outputs": [
    {
     "data": {
      "text/plain": [
       "<matplotlib.image.AxesImage at 0x7f7ae9f48eb0>"
      ]
     },
     "execution_count": 15,
     "metadata": {},
     "output_type": "execute_result"
    },
    {
     "data": {
      "image/png": "[encoded data removed]",
      "text/plain": [
       "<Figure size 432x288 with 2 Axes>"
      ]
     },
     "metadata": {},
     "output_type": "display_data"
    }
   ],
   "source": [
    "plt.subplot(2, 1, 1)\n",
    "plt.title(str(left_y_train[0]))\n",
    "plt.imshow(left_x_train[0].reshape((26, 34, 1)), cmap='gray')\n",
    "plt.subplot(2, 1, 2)\n",
    "plt.title(str(left_y_val[4]))\n",
    "plt.imshow(left_x_val[4].reshape((26, 34, 1)), cmap='gray')\n"
   ]
  },
  {
   "cell_type": "markdown",
   "metadata": {},
   "source": [
    "# Data Augmentation(데이터 증가)->훈련용 데이터를 증가시키고 성능을 향상시키기 위해 하는 방식"
   ]
  },
  {
   "cell_type": "code",
   "execution_count": 19,
   "metadata": {},
   "outputs": [
    {
     "name": "stdout",
     "output_type": "stream",
     "text": [
      "왼쪽\n",
      "오른쪽\n"
     ]
    }
   ],
   "source": [
    "train_datagen = ImageDataGenerator(#가상의 이미지 데이터를 생성하는 것 why 훈련 성능 향상, 너무 훈련용데이터에만 적응하는 과적합을 막기 위해서도\n",
    "    rescale=1./255,\n",
    "    rotation_range=10,\n",
    "    width_shift_range=0.2,\n",
    "    height_shift_range=0.2,\n",
    "    shear_range=0.2\n",
    ")\n",
    "#과적합 : 과도하게 적합한 것을 의미, 너무 훈련을 잘해서 정해진 값만 정확하게 판단하려고 파라미터 값들을 맞추는 것.\n",
    "\n",
    "val_datagen = ImageDataGenerator(rescale=1./255) #검증용은 굳이 변형이 필요없이 생성만\n",
    "\n",
    "print(\"왼쪽\")\n",
    "left_train_generator = train_datagen.flow(\n",
    "    x=left_x_train, y=left_y_train,\n",
    "    batch_size=32, # 한 횟수의 훈련 및 검증에 사용될 데이터 량(32개씩)\n",
    "    shuffle=True # 순서를 섞는것\n",
    ")\n",
    "\n",
    "left_val_generator = val_datagen.flow(\n",
    "    x=left_x_val, y=left_y_val,\n",
    "    batch_size=32,\n",
    "    shuffle=False\n",
    ")\n",
    "\n",
    "print(\"오른쪽\")\n",
    "right_train_generator = train_datagen.flow(\n",
    "    x=right_x_train, y=right_y_train,\n",
    "    batch_size=32,\n",
    "    shuffle=True\n",
    ")\n",
    "\n",
    "right_val_generator = val_datagen.flow(\n",
    "    x=right_x_val, y=right_y_val,\n",
    "    batch_size=32,\n",
    "    shuffle=False\n",
    ")"
   ]
  },
  {
   "cell_type": "markdown",
   "metadata": {},
   "source": [
    "# Build Model cnn모델은 인풋레이어(인풋 정보 정의), 히든레이어(conv갯수에 따라 몇층인지), 아웃풋레이어(3차원데이터를 분류하기 편한 1차원으로 변경 및 활성화함수로 분류)"
   ]
  },
  {
   "cell_type": "code",
   "execution_count": 23,
   "metadata": {
    "scrolled": true
   },
   "outputs": [
    {
     "name": "stdout",
     "output_type": "stream",
     "text": [
      "Model: \"functional_11\"\n",
      "_________________________________________________________________\n",
      "Layer (type)                 Output Shape              Param #   \n",
      "=================================================================\n",
      "input_4 (InputLayer)         [(None, 26, 34, 1)]       0         \n",
      "_________________________________________________________________\n",
      "conv2d_9 (Conv2D)            (None, 26, 34, 32)        320       \n",
      "_________________________________________________________________\n",
      "max_pooling2d_9 (MaxPooling2 (None, 13, 17, 32)        0         \n",
      "_________________________________________________________________\n",
      "conv2d_10 (Conv2D)           (None, 13, 17, 64)        18496     \n",
      "_________________________________________________________________\n",
      "max_pooling2d_10 (MaxPooling (None, 6, 8, 64)          0         \n",
      "_________________________________________________________________\n",
      "conv2d_11 (Conv2D)           (None, 6, 8, 128)         73856     \n",
      "_________________________________________________________________\n",
      "max_pooling2d_11 (MaxPooling (None, 3, 4, 128)         0         \n",
      "_________________________________________________________________\n",
      "flatten_3 (Flatten)          (None, 1536)              0         \n",
      "_________________________________________________________________\n",
      "dense_6 (Dense)              (None, 512)               786944    \n",
      "_________________________________________________________________\n",
      "activation_6 (Activation)    (None, 512)               0         \n",
      "_________________________________________________________________\n",
      "dense_7 (Dense)              (None, 1)                 513       \n",
      "_________________________________________________________________\n",
      "activation_7 (Activation)    (None, 1)                 0         \n",
      "=================================================================\n",
      "Total params: 880,129\n",
      "Trainable params: 880,129\n",
      "Non-trainable params: 0\n",
      "_________________________________________________________________\n",
      "Model: \"functional_13\"\n",
      "_________________________________________________________________\n",
      "Layer (type)                 Output Shape              Param #   \n",
      "=================================================================\n",
      "input_4 (InputLayer)         [(None, 26, 34, 1)]       0         \n",
      "_________________________________________________________________\n",
      "conv2d_9 (Conv2D)            (None, 26, 34, 32)        320       \n",
      "_________________________________________________________________\n",
      "max_pooling2d_9 (MaxPooling2 (None, 13, 17, 32)        0         \n",
      "_________________________________________________________________\n",
      "conv2d_10 (Conv2D)           (None, 13, 17, 64)        18496     \n",
      "_________________________________________________________________\n",
      "max_pooling2d_10 (MaxPooling (None, 6, 8, 64)          0         \n",
      "_________________________________________________________________\n",
      "conv2d_11 (Conv2D)           (None, 6, 8, 128)         73856     \n",
      "_________________________________________________________________\n",
      "max_pooling2d_11 (MaxPooling (None, 3, 4, 128)         0         \n",
      "_________________________________________________________________\n",
      "flatten_3 (Flatten)          (None, 1536)              0         \n",
      "_________________________________________________________________\n",
      "dense_6 (Dense)              (None, 512)               786944    \n",
      "_________________________________________________________________\n",
      "activation_6 (Activation)    (None, 512)               0         \n",
      "_________________________________________________________________\n",
      "dense_7 (Dense)              (None, 1)                 513       \n",
      "_________________________________________________________________\n",
      "activation_7 (Activation)    (None, 1)                 0         \n",
      "=================================================================\n",
      "Total params: 880,129\n",
      "Trainable params: 880,129\n",
      "Non-trainable params: 0\n",
      "_________________________________________________________________\n"
     ]
    }
   ],
   "source": [
    "#왼쪽, 오른쪽 테이블 두개\n",
    "inputs = Input(shape=(26, 34, 1)) #input층\n",
    "\n",
    "net = Conv2D(32, kernel_size=3, strides=1, padding='same', activation='relu')(inputs) \n",
    "#convolutional 층을 쌓아 filter 크기(3*3), strides filter가 몇칸씩 이동하는지, padding same은 공간 정보 유지를 원한다.\n",
    "#, activation 활성화함수 relu 음수 0, 양수는 그래도 표현\n",
    "# ㄷㄷㄷㄷㄷ\n",
    "# ㄷㅌㅌㅌㄷ    \n",
    "# ㄷㅌㅌㅌㄷ -> 5*5 3*3\n",
    "# ㄷㅌㅌㅌㄷ\n",
    "# ㄷㄷㄷㄷㄷ\n",
    "net = MaxPooling2D(pool_size=2)(net) #polling층 가장 자극이 강한 것만 다시 재추출하는 maxpolling, poll_size = 2\n",
    "# 1  19   ---> 55\n",
    "# 55 34\n",
    "\n",
    "#1층 끝 보통 conv와 polling은 1개의 층으로 침\n",
    "\n",
    "net = Conv2D(64, kernel_size=3, strides=1, padding='same', activation='relu')(net)\n",
    "net = MaxPooling2D(pool_size=2)(net)\n",
    "#2층 끝\n",
    "\n",
    "net = Conv2D(128, kernel_size=3, strides=1, padding='same', activation='relu')(net)\n",
    "net = MaxPooling2D(pool_size=2)(net)\n",
    "#3층 끝\n",
    "\n",
    "net = Flatten()(net) # 3차원데이터를 1차원으로 변경\n",
    "\n",
    "net = Dense(512)(net)\n",
    "net = Activation('relu')(net) #relu 음수면 0 양수면 1로 변경하는 활성화함수\n",
    "net = Dense(1)(net)\n",
    "outputs = Activation('sigmoid')(net) #결과를 도출하는 층, 활성화함수 sigmoid 사용 why 이진분류 if 다중분류 softmax 사용\n",
    "\n",
    "left_model = Model(inputs=inputs, outputs=outputs)\n",
    "\n",
    "left_model.compile(optimizer='adam', loss='binary_crossentropy', metrics=['acc'])\n",
    "\n",
    "left_model.summary()\n",
    "\n",
    "right_model = Model(inputs=inputs, outputs=outputs)\n",
    "\n",
    "right_model.compile(optimizer='adam', loss='binary_crossentropy', metrics=['acc'])\n",
    "\n",
    "right_model.summary()\n"
   ]
  },
  {
   "cell_type": "markdown",
   "metadata": {},
   "source": [
    "# Train"
   ]
  },
  {
   "cell_type": "code",
   "execution_count": 26,
   "metadata": {},
   "outputs": [
    {
     "name": "stdout",
     "output_type": "stream",
     "text": [
      "Epoch 1/50\n",
      "81/81 [==============================] - ETA: 0s - loss: 0.0028 - acc: 1.0000\n",
      "Epoch 00001: val_acc improved from -inf to 0.99306, saving model to datas/models/left_eye.h5\n",
      "81/81 [==============================] - 5s 62ms/step - loss: 0.0028 - acc: 1.0000 - val_loss: 0.0295 - val_acc: 0.9931\n",
      "Epoch 2/50\n",
      "81/81 [==============================] - ETA: 0s - loss: 0.0064 - acc: 0.9981\n",
      "Epoch 00002: val_acc did not improve from 0.99306\n",
      "81/81 [==============================] - 5s 67ms/step - loss: 0.0064 - acc: 0.9981 - val_loss: 0.0281 - val_acc: 0.9931\n",
      "Epoch 3/50\n",
      "81/81 [==============================] - ETA: 0s - loss: 0.0046 - acc: 0.9988\n",
      "Epoch 00003: val_acc did not improve from 0.99306\n",
      "81/81 [==============================] - 6s 77ms/step - loss: 0.0046 - acc: 0.9988 - val_loss: 0.0282 - val_acc: 0.9931\n",
      "Epoch 4/50\n",
      "81/81 [==============================] - ETA: 0s - loss: 0.0033 - acc: 0.9996\n",
      "Epoch 00004: val_acc did not improve from 0.99306\n",
      "81/81 [==============================] - 6s 73ms/step - loss: 0.0033 - acc: 0.9996 - val_loss: 0.0281 - val_acc: 0.9931\n",
      "Epoch 5/50\n",
      "81/81 [==============================] - ETA: 0s - loss: 0.0031 - acc: 0.9988\n",
      "Epoch 00005: val_acc did not improve from 0.99306\n",
      "81/81 [==============================] - 6s 77ms/step - loss: 0.0031 - acc: 0.9988 - val_loss: 0.0286 - val_acc: 0.9931\n",
      "Epoch 6/50\n",
      "81/81 [==============================] - ETA: 0s - loss: 0.0049 - acc: 0.9977\n",
      "Epoch 00006: val_acc did not improve from 0.99306\n",
      "81/81 [==============================] - 7s 84ms/step - loss: 0.0049 - acc: 0.9977 - val_loss: 0.0301 - val_acc: 0.9931\n",
      "Epoch 7/50\n",
      "80/81 [============================>.] - ETA: 0s - loss: 0.0051 - acc: 0.9984\n",
      "Epoch 00007: val_acc did not improve from 0.99306\n",
      "81/81 [==============================] - 6s 72ms/step - loss: 0.0050 - acc: 0.9985 - val_loss: 0.0306 - val_acc: 0.9931\n",
      "Epoch 8/50\n",
      "81/81 [==============================] - ETA: 0s - loss: 0.0054 - acc: 0.9981\n",
      "Epoch 00008: val_acc did not improve from 0.99306\n",
      "81/81 [==============================] - 8s 94ms/step - loss: 0.0054 - acc: 0.9981 - val_loss: 0.0314 - val_acc: 0.9931\n",
      "Epoch 9/50\n",
      "81/81 [==============================] - ETA: 0s - loss: 0.0064 - acc: 0.9985\n",
      "Epoch 00009: val_acc did not improve from 0.99306\n",
      "81/81 [==============================] - 7s 85ms/step - loss: 0.0064 - acc: 0.9985 - val_loss: 0.0298 - val_acc: 0.9931\n",
      "Epoch 10/50\n",
      "81/81 [==============================] - ETA: 0s - loss: 0.0048 - acc: 0.9981\n",
      "Epoch 00010: val_acc did not improve from 0.99306\n",
      "81/81 [==============================] - 7s 85ms/step - loss: 0.0048 - acc: 0.9981 - val_loss: 0.0286 - val_acc: 0.9931\n",
      "Epoch 11/50\n",
      "81/81 [==============================] - ETA: 0s - loss: 0.0034 - acc: 0.9992\n",
      "Epoch 00011: val_acc did not improve from 0.99306\n",
      "81/81 [==============================] - 7s 83ms/step - loss: 0.0034 - acc: 0.9992 - val_loss: 0.0286 - val_acc: 0.9931\n",
      "Epoch 12/50\n",
      "81/81 [==============================] - ETA: 0s - loss: 0.0023 - acc: 0.9996\n",
      "Epoch 00012: val_acc did not improve from 0.99306\n",
      "81/81 [==============================] - 6s 79ms/step - loss: 0.0023 - acc: 0.9996 - val_loss: 0.0291 - val_acc: 0.9931\n",
      "Epoch 13/50\n",
      "81/81 [==============================] - ETA: 0s - loss: 0.0040 - acc: 0.9988\n",
      "Epoch 00013: val_acc did not improve from 0.99306\n",
      "81/81 [==============================] - 6s 78ms/step - loss: 0.0040 - acc: 0.9988 - val_loss: 0.0294 - val_acc: 0.9931\n",
      "Epoch 14/50\n",
      "81/81 [==============================] - ETA: 0s - loss: 0.0045 - acc: 0.9985\n",
      "Epoch 00014: val_acc did not improve from 0.99306\n",
      "81/81 [==============================] - 6s 77ms/step - loss: 0.0045 - acc: 0.9985 - val_loss: 0.0290 - val_acc: 0.9931\n",
      "Epoch 15/50\n",
      "81/81 [==============================] - ETA: 0s - loss: 0.0043 - acc: 0.9981\n",
      "Epoch 00015: val_acc did not improve from 0.99306\n",
      "81/81 [==============================] - 6s 79ms/step - loss: 0.0043 - acc: 0.9981 - val_loss: 0.0296 - val_acc: 0.9931\n",
      "Epoch 16/50\n",
      "81/81 [==============================] - ETA: 0s - loss: 0.0058 - acc: 0.9981\n",
      "Epoch 00016: val_acc did not improve from 0.99306\n",
      "81/81 [==============================] - 6s 77ms/step - loss: 0.0058 - acc: 0.9981 - val_loss: 0.0298 - val_acc: 0.9931\n",
      "Epoch 17/50\n",
      "81/81 [==============================] - ETA: 0s - loss: 0.0055 - acc: 0.9985\n",
      "Epoch 00017: val_acc did not improve from 0.99306\n",
      "81/81 [==============================] - 6s 76ms/step - loss: 0.0055 - acc: 0.9985 - val_loss: 0.0308 - val_acc: 0.9931\n",
      "Epoch 18/50\n",
      "81/81 [==============================] - ETA: 0s - loss: 0.0030 - acc: 0.9988\n",
      "Epoch 00018: val_acc did not improve from 0.99306\n",
      "81/81 [==============================] - 6s 77ms/step - loss: 0.0030 - acc: 0.9988 - val_loss: 0.0304 - val_acc: 0.9931\n",
      "Epoch 19/50\n",
      "81/81 [==============================] - ETA: 0s - loss: 0.0043 - acc: 0.9981\n",
      "Epoch 00019: val_acc did not improve from 0.99306\n",
      "81/81 [==============================] - 6s 77ms/step - loss: 0.0043 - acc: 0.9981 - val_loss: 0.0295 - val_acc: 0.9931\n",
      "Epoch 20/50\n",
      "81/81 [==============================] - ETA: 0s - loss: 0.0051 - acc: 0.9985\n",
      "Epoch 00020: val_acc did not improve from 0.99306\n",
      "81/81 [==============================] - 6s 75ms/step - loss: 0.0051 - acc: 0.9985 - val_loss: 0.0312 - val_acc: 0.9931\n",
      "Epoch 21/50\n",
      "81/81 [==============================] - ETA: 0s - loss: 0.0059 - acc: 0.9977\n",
      "Epoch 00021: val_acc did not improve from 0.99306\n",
      "81/81 [==============================] - 6s 78ms/step - loss: 0.0059 - acc: 0.9977 - val_loss: 0.0311 - val_acc: 0.9931\n",
      "Epoch 22/50\n",
      "81/81 [==============================] - ETA: 0s - loss: 0.0034 - acc: 0.9985\n",
      "Epoch 00022: val_acc did not improve from 0.99306\n",
      "81/81 [==============================] - 6s 78ms/step - loss: 0.0034 - acc: 0.9985 - val_loss: 0.0315 - val_acc: 0.9931\n",
      "Epoch 23/50\n",
      "81/81 [==============================] - ETA: 0s - loss: 0.0026 - acc: 0.9996\n",
      "Epoch 00023: val_acc did not improve from 0.99306\n",
      "81/81 [==============================] - 6s 78ms/step - loss: 0.0026 - acc: 0.9996 - val_loss: 0.0301 - val_acc: 0.9931\n",
      "Epoch 24/50\n",
      "81/81 [==============================] - ETA: 0s - loss: 0.0038 - acc: 0.9992\n",
      "Epoch 00024: val_acc did not improve from 0.99306\n",
      "81/81 [==============================] - 7s 81ms/step - loss: 0.0038 - acc: 0.9992 - val_loss: 0.0309 - val_acc: 0.9931\n",
      "Epoch 25/50\n",
      "81/81 [==============================] - ETA: 0s - loss: 0.0046 - acc: 0.9988\n",
      "Epoch 00025: val_acc did not improve from 0.99306\n",
      "81/81 [==============================] - 5s 58ms/step - loss: 0.0046 - acc: 0.9988 - val_loss: 0.0308 - val_acc: 0.9931\n",
      "Epoch 26/50\n",
      "81/81 [==============================] - ETA: 0s - loss: 0.0051 - acc: 0.9985\n",
      "Epoch 00026: val_acc did not improve from 0.99306\n",
      "81/81 [==============================] - 4s 51ms/step - loss: 0.0051 - acc: 0.9985 - val_loss: 0.0317 - val_acc: 0.9931\n",
      "Epoch 27/50\n",
      "80/81 [============================>.] - ETA: 0s - loss: 0.0041 - acc: 0.9977\n",
      "Epoch 00027: val_acc did not improve from 0.99306\n",
      "81/81 [==============================] - 4s 46ms/step - loss: 0.0041 - acc: 0.9977 - val_loss: 0.0310 - val_acc: 0.9931\n",
      "Epoch 28/50\n",
      "81/81 [==============================] - ETA: 0s - loss: 0.0034 - acc: 0.9988\n",
      "Epoch 00028: val_acc did not improve from 0.99306\n",
      "81/81 [==============================] - 4s 46ms/step - loss: 0.0034 - acc: 0.9988 - val_loss: 0.0306 - val_acc: 0.9931\n",
      "Epoch 29/50\n",
      "81/81 [==============================] - ETA: 0s - loss: 0.0028 - acc: 0.9992\n",
      "Epoch 00029: val_acc did not improve from 0.99306\n",
      "81/81 [==============================] - 4s 46ms/step - loss: 0.0028 - acc: 0.9992 - val_loss: 0.0297 - val_acc: 0.9931\n",
      "Epoch 30/50\n",
      "81/81 [==============================] - ETA: 0s - loss: 0.0059 - acc: 0.9977\n",
      "Epoch 00030: val_acc did not improve from 0.99306\n",
      "81/81 [==============================] - 4s 47ms/step - loss: 0.0059 - acc: 0.9977 - val_loss: 0.0309 - val_acc: 0.9931\n",
      "Epoch 31/50\n",
      "80/81 [============================>.] - ETA: 0s - loss: 0.0046 - acc: 0.9988\n",
      "Epoch 00031: val_acc did not improve from 0.99306\n",
      "81/81 [==============================] - 4s 45ms/step - loss: 0.0046 - acc: 0.9988 - val_loss: 0.0315 - val_acc: 0.9931\n",
      "Epoch 32/50\n",
      "80/81 [============================>.] - ETA: 0s - loss: 0.0035 - acc: 0.9992\n",
      "Epoch 00032: val_acc did not improve from 0.99306\n",
      "81/81 [==============================] - 4s 45ms/step - loss: 0.0035 - acc: 0.9992 - val_loss: 0.0301 - val_acc: 0.9931\n"
     ]
    },
    {
     "name": "stdout",
     "output_type": "stream",
     "text": [
      "Epoch 33/50\n",
      "80/81 [============================>.] - ETA: 0s - loss: 0.0036 - acc: 0.9992\n",
      "Epoch 00033: val_acc did not improve from 0.99306\n",
      "81/81 [==============================] - 4s 46ms/step - loss: 0.0036 - acc: 0.9992 - val_loss: 0.0303 - val_acc: 0.9931\n",
      "Epoch 34/50\n",
      "80/81 [============================>.] - ETA: 0s - loss: 0.0036 - acc: 0.9988\n",
      "Epoch 00034: val_acc did not improve from 0.99306\n",
      "81/81 [==============================] - 4s 44ms/step - loss: 0.0035 - acc: 0.9988 - val_loss: 0.0315 - val_acc: 0.9931\n",
      "Epoch 35/50\n",
      "81/81 [==============================] - ETA: 0s - loss: 0.0059 - acc: 0.9977\n",
      "Epoch 00035: val_acc did not improve from 0.99306\n",
      "81/81 [==============================] - 4s 45ms/step - loss: 0.0059 - acc: 0.9977 - val_loss: 0.0309 - val_acc: 0.9931\n",
      "Epoch 36/50\n",
      "80/81 [============================>.] - ETA: 0s - loss: 0.0043 - acc: 0.9992\n",
      "Epoch 00036: val_acc did not improve from 0.99306\n",
      "81/81 [==============================] - 4s 47ms/step - loss: 0.0043 - acc: 0.9992 - val_loss: 0.0317 - val_acc: 0.9931\n",
      "Epoch 37/50\n",
      "81/81 [==============================] - ETA: 0s - loss: 0.0035 - acc: 0.9992\n",
      "Epoch 00037: val_acc did not improve from 0.99306\n",
      "81/81 [==============================] - 4s 44ms/step - loss: 0.0035 - acc: 0.9992 - val_loss: 0.0301 - val_acc: 0.9931\n",
      "Epoch 38/50\n",
      "81/81 [==============================] - ETA: 0s - loss: 0.0056 - acc: 0.9981\n",
      "Epoch 00038: val_acc did not improve from 0.99306\n",
      "81/81 [==============================] - 4s 46ms/step - loss: 0.0056 - acc: 0.9981 - val_loss: 0.0301 - val_acc: 0.9931\n",
      "Epoch 39/50\n",
      "81/81 [==============================] - ETA: 0s - loss: 0.0053 - acc: 0.9981\n",
      "Epoch 00039: val_acc did not improve from 0.99306\n",
      "81/81 [==============================] - 4s 45ms/step - loss: 0.0053 - acc: 0.9981 - val_loss: 0.0293 - val_acc: 0.9931\n",
      "Epoch 40/50\n",
      "81/81 [==============================] - ETA: 0s - loss: 0.0037 - acc: 0.9985\n",
      "Epoch 00040: val_acc did not improve from 0.99306\n",
      "81/81 [==============================] - 4s 47ms/step - loss: 0.0037 - acc: 0.9985 - val_loss: 0.0310 - val_acc: 0.9931\n",
      "Epoch 41/50\n",
      "80/81 [============================>.] - ETA: 0s - loss: 0.0031 - acc: 0.9992\n",
      "Epoch 00041: val_acc did not improve from 0.99306\n",
      "81/81 [==============================] - 4s 45ms/step - loss: 0.0030 - acc: 0.9992 - val_loss: 0.0313 - val_acc: 0.9931\n",
      "Epoch 42/50\n",
      "81/81 [==============================] - ETA: 0s - loss: 0.0043 - acc: 0.9981\n",
      "Epoch 00042: val_acc did not improve from 0.99306\n",
      "81/81 [==============================] - 4s 47ms/step - loss: 0.0043 - acc: 0.9981 - val_loss: 0.0314 - val_acc: 0.9931\n",
      "Epoch 43/50\n",
      "80/81 [============================>.] - ETA: 0s - loss: 0.0064 - acc: 0.9969\n",
      "Epoch 00043: val_acc did not improve from 0.99306\n",
      "81/81 [==============================] - 4s 46ms/step - loss: 0.0063 - acc: 0.9969 - val_loss: 0.0301 - val_acc: 0.9931\n",
      "Epoch 44/50\n",
      "80/81 [============================>.] - ETA: 0s - loss: 0.0071 - acc: 0.9977\n",
      "Epoch 00044: val_acc did not improve from 0.99306\n",
      "81/81 [==============================] - 4s 48ms/step - loss: 0.0071 - acc: 0.9977 - val_loss: 0.0296 - val_acc: 0.9931\n",
      "Epoch 45/50\n",
      "80/81 [============================>.] - ETA: 0s - loss: 0.0032 - acc: 0.9992\n",
      "Epoch 00045: val_acc did not improve from 0.99306\n",
      "81/81 [==============================] - 4s 46ms/step - loss: 0.0032 - acc: 0.9992 - val_loss: 0.0294 - val_acc: 0.9931\n",
      "Epoch 46/50\n",
      "81/81 [==============================] - ETA: 0s - loss: 0.0028 - acc: 0.9988\n",
      "Epoch 00046: val_acc did not improve from 0.99306\n",
      "81/81 [==============================] - 4s 45ms/step - loss: 0.0028 - acc: 0.9988 - val_loss: 0.0317 - val_acc: 0.9931\n",
      "Epoch 47/50\n",
      "81/81 [==============================] - ETA: 0s - loss: 0.0025 - acc: 0.9996\n",
      "Epoch 00047: val_acc did not improve from 0.99306\n",
      "81/81 [==============================] - 4s 47ms/step - loss: 0.0025 - acc: 0.9996 - val_loss: 0.0323 - val_acc: 0.9931\n",
      "Epoch 48/50\n",
      "80/81 [============================>.] - ETA: 0s - loss: 0.0054 - acc: 0.9992\n",
      "Epoch 00048: val_acc did not improve from 0.99306\n",
      "81/81 [==============================] - 4s 47ms/step - loss: 0.0053 - acc: 0.9992 - val_loss: 0.0328 - val_acc: 0.9931\n",
      "Epoch 49/50\n",
      "81/81 [==============================] - ETA: 0s - loss: 0.0041 - acc: 0.9977\n",
      "Epoch 00049: val_acc did not improve from 0.99306\n",
      "81/81 [==============================] - 4s 45ms/step - loss: 0.0041 - acc: 0.9977 - val_loss: 0.0313 - val_acc: 0.9931\n",
      "Epoch 50/50\n",
      "81/81 [==============================] - ETA: 0s - loss: 0.0035 - acc: 0.9996\n",
      "Epoch 00050: val_acc did not improve from 0.99306\n",
      "81/81 [==============================] - 4s 47ms/step - loss: 0.0035 - acc: 0.9996 - val_loss: 0.0296 - val_acc: 0.9931\n"
     ]
    },
    {
     "data": {
      "text/plain": [
       "<tensorflow.python.keras.callbacks.History at 0x7f7ae85531c0>"
      ]
     },
     "execution_count": 26,
     "metadata": {},
     "output_type": "execute_result"
    }
   ],
   "source": [
    "model.fit_generator(\n",
    "    left_train_generator, epochs=50, validation_data=left_val_generator,\n",
    "    callbacks=[\n",
    "        ModelCheckpoint('datas/models/left_eye.h5', monitor='val_acc', save_best_only=True, mode='max', verbose=1),\n",
    "        ReduceLROnPlateau(monitor='val_acc', factor=0.2, patience=10, verbose=1, mode='auto', min_lr=1e-05)\n",
    "    ]\n",
    ")\n",
    "\n",
    "#epochs 훈련 루틴 횟수"
   ]
  },
  {
   "cell_type": "code",
   "execution_count": 27,
   "metadata": {},
   "outputs": [
    {
     "name": "stdout",
     "output_type": "stream",
     "text": [
      "Epoch 1/50\n",
      "81/81 [==============================] - ETA: 0s - loss: 0.0741 - acc: 0.9799\n",
      "Epoch 00001: val_acc improved from -inf to 0.98958, saving model to datas/models/right_eye.h5\n",
      "81/81 [==============================] - 5s 63ms/step - loss: 0.0741 - acc: 0.9799 - val_loss: 0.0417 - val_acc: 0.9896\n",
      "Epoch 2/50\n",
      "81/81 [==============================] - ETA: 0s - loss: 0.0597 - acc: 0.9841\n",
      "Epoch 00002: val_acc did not improve from 0.98958\n",
      "81/81 [==============================] - 6s 71ms/step - loss: 0.0597 - acc: 0.9841 - val_loss: 0.0411 - val_acc: 0.9896\n",
      "Epoch 3/50\n",
      "81/81 [==============================] - ETA: 0s - loss: 0.0666 - acc: 0.9814\n",
      "Epoch 00003: val_acc did not improve from 0.98958\n",
      "81/81 [==============================] - 5s 66ms/step - loss: 0.0666 - acc: 0.9814 - val_loss: 0.0368 - val_acc: 0.9896\n",
      "Epoch 4/50\n",
      "81/81 [==============================] - ETA: 0s - loss: 0.0575 - acc: 0.9845\n",
      "Epoch 00004: val_acc did not improve from 0.98958\n",
      "81/81 [==============================] - 6s 70ms/step - loss: 0.0575 - acc: 0.9845 - val_loss: 0.0345 - val_acc: 0.9896\n",
      "Epoch 5/50\n",
      "81/81 [==============================] - ETA: 0s - loss: 0.0539 - acc: 0.9869\n",
      "Epoch 00005: val_acc did not improve from 0.98958\n",
      "81/81 [==============================] - 6s 75ms/step - loss: 0.0539 - acc: 0.9869 - val_loss: 0.0327 - val_acc: 0.9896\n",
      "Epoch 6/50\n",
      "81/81 [==============================] - ETA: 0s - loss: 0.0500 - acc: 0.9845\n",
      "Epoch 00006: val_acc did not improve from 0.98958\n",
      "81/81 [==============================] - 6s 75ms/step - loss: 0.0500 - acc: 0.9845 - val_loss: 0.0320 - val_acc: 0.9896\n",
      "Epoch 7/50\n",
      "81/81 [==============================] - ETA: 0s - loss: 0.0563 - acc: 0.9857\n",
      "Epoch 00007: val_acc improved from 0.98958 to 0.99306, saving model to datas/models/right_eye.h5\n",
      "81/81 [==============================] - 6s 76ms/step - loss: 0.0563 - acc: 0.9857 - val_loss: 0.0299 - val_acc: 0.9931\n",
      "Epoch 8/50\n",
      "81/81 [==============================] - ETA: 0s - loss: 0.0528 - acc: 0.9853\n",
      "Epoch 00008: val_acc did not improve from 0.99306\n",
      "81/81 [==============================] - 6s 74ms/step - loss: 0.0528 - acc: 0.9853 - val_loss: 0.0332 - val_acc: 0.9896\n",
      "Epoch 9/50\n",
      "81/81 [==============================] - ETA: 0s - loss: 0.0491 - acc: 0.9853\n",
      "Epoch 00009: val_acc did not improve from 0.99306\n",
      "81/81 [==============================] - 6s 75ms/step - loss: 0.0491 - acc: 0.9853 - val_loss: 0.0295 - val_acc: 0.9896\n",
      "Epoch 10/50\n",
      "81/81 [==============================] - ETA: 0s - loss: 0.0512 - acc: 0.9884\n",
      "Epoch 00010: val_acc did not improve from 0.99306\n",
      "81/81 [==============================] - 6s 74ms/step - loss: 0.0512 - acc: 0.9884 - val_loss: 0.0323 - val_acc: 0.9896\n",
      "Epoch 11/50\n",
      "81/81 [==============================] - ETA: 0s - loss: 0.0458 - acc: 0.9884\n",
      "Epoch 00011: val_acc did not improve from 0.99306\n",
      "81/81 [==============================] - 6s 76ms/step - loss: 0.0458 - acc: 0.9884 - val_loss: 0.0273 - val_acc: 0.9896\n",
      "Epoch 12/50\n",
      "81/81 [==============================] - ETA: 0s - loss: 0.0448 - acc: 0.9865\n",
      "Epoch 00012: val_acc did not improve from 0.99306\n",
      "81/81 [==============================] - 6s 74ms/step - loss: 0.0448 - acc: 0.9865 - val_loss: 0.0279 - val_acc: 0.9896\n",
      "Epoch 13/50\n",
      "81/81 [==============================] - ETA: 0s - loss: 0.0476 - acc: 0.9872\n",
      "Epoch 00013: val_acc did not improve from 0.99306\n",
      "81/81 [==============================] - 6s 75ms/step - loss: 0.0476 - acc: 0.9872 - val_loss: 0.0300 - val_acc: 0.9896\n",
      "Epoch 14/50\n",
      "81/81 [==============================] - ETA: 0s - loss: 0.0456 - acc: 0.9876\n",
      "Epoch 00014: val_acc did not improve from 0.99306\n",
      "81/81 [==============================] - 6s 74ms/step - loss: 0.0456 - acc: 0.9876 - val_loss: 0.0295 - val_acc: 0.9896\n",
      "Epoch 15/50\n",
      "81/81 [==============================] - ETA: 0s - loss: 0.0496 - acc: 0.9884\n",
      "Epoch 00015: val_acc did not improve from 0.99306\n",
      "81/81 [==============================] - 6s 76ms/step - loss: 0.0496 - acc: 0.9884 - val_loss: 0.0264 - val_acc: 0.9896\n",
      "Epoch 16/50\n",
      "81/81 [==============================] - ETA: 0s - loss: 0.0431 - acc: 0.9903\n",
      "Epoch 00016: val_acc did not improve from 0.99306\n",
      "81/81 [==============================] - 6s 76ms/step - loss: 0.0431 - acc: 0.9903 - val_loss: 0.0264 - val_acc: 0.9896\n",
      "Epoch 17/50\n",
      "80/81 [============================>.] - ETA: 0s - loss: 0.0414 - acc: 0.9898\n",
      "Epoch 00017: val_acc did not improve from 0.99306\n",
      "81/81 [==============================] - 6s 76ms/step - loss: 0.0412 - acc: 0.9896 - val_loss: 0.0298 - val_acc: 0.9896\n",
      "Epoch 18/50\n",
      "81/81 [==============================] - ETA: 0s - loss: 0.0417 - acc: 0.9865\n",
      "Epoch 00018: val_acc did not improve from 0.99306\n",
      "81/81 [==============================] - 6s 75ms/step - loss: 0.0417 - acc: 0.9865 - val_loss: 0.0284 - val_acc: 0.9896\n",
      "Epoch 19/50\n",
      "81/81 [==============================] - ETA: 0s - loss: 0.0447 - acc: 0.9869\n",
      "Epoch 00019: val_acc did not improve from 0.99306\n",
      "81/81 [==============================] - 6s 76ms/step - loss: 0.0447 - acc: 0.9869 - val_loss: 0.0277 - val_acc: 0.9896\n",
      "Epoch 20/50\n",
      "81/81 [==============================] - ETA: 0s - loss: 0.0450 - acc: 0.9857\n",
      "Epoch 00020: val_acc did not improve from 0.99306\n",
      "81/81 [==============================] - 6s 74ms/step - loss: 0.0450 - acc: 0.9857 - val_loss: 0.0270 - val_acc: 0.9896\n",
      "Epoch 21/50\n",
      "81/81 [==============================] - ETA: 0s - loss: 0.0467 - acc: 0.9884\n",
      "Epoch 00021: val_acc did not improve from 0.99306\n",
      "81/81 [==============================] - 6s 77ms/step - loss: 0.0467 - acc: 0.9884 - val_loss: 0.0248 - val_acc: 0.9896\n",
      "Epoch 22/50\n",
      "81/81 [==============================] - ETA: 0s - loss: 0.0459 - acc: 0.9880\n",
      "Epoch 00022: val_acc did not improve from 0.99306\n",
      "81/81 [==============================] - 6s 75ms/step - loss: 0.0459 - acc: 0.9880 - val_loss: 0.0217 - val_acc: 0.9931\n",
      "Epoch 23/50\n",
      "81/81 [==============================] - ETA: 0s - loss: 0.0392 - acc: 0.9896\n",
      "Epoch 00023: val_acc did not improve from 0.99306\n",
      "81/81 [==============================] - 6s 78ms/step - loss: 0.0392 - acc: 0.9896 - val_loss: 0.0215 - val_acc: 0.9931\n",
      "Epoch 24/50\n",
      "80/81 [============================>.] - ETA: 0s - loss: 0.0439 - acc: 0.9894\n",
      "Epoch 00024: val_acc did not improve from 0.99306\n",
      "81/81 [==============================] - 6s 75ms/step - loss: 0.0434 - acc: 0.9896 - val_loss: 0.0235 - val_acc: 0.9896\n",
      "Epoch 25/50\n",
      "80/81 [============================>.] - ETA: 0s - loss: 0.0393 - acc: 0.9890\n",
      "Epoch 00025: val_acc did not improve from 0.99306\n",
      "81/81 [==============================] - 4s 48ms/step - loss: 0.0391 - acc: 0.9892 - val_loss: 0.0217 - val_acc: 0.9931\n",
      "Epoch 26/50\n",
      "81/81 [==============================] - ETA: 0s - loss: 0.0400 - acc: 0.9857\n",
      "Epoch 00026: val_acc did not improve from 0.99306\n",
      "81/81 [==============================] - 4s 46ms/step - loss: 0.0400 - acc: 0.9857 - val_loss: 0.0212 - val_acc: 0.9931\n",
      "Epoch 27/50\n",
      "80/81 [============================>.] - ETA: 0s - loss: 0.0332 - acc: 0.9906\n",
      "Epoch 00027: val_acc did not improve from 0.99306\n",
      "81/81 [==============================] - 4s 47ms/step - loss: 0.0332 - acc: 0.9903 - val_loss: 0.0204 - val_acc: 0.9931\n",
      "Epoch 28/50\n",
      "80/81 [============================>.] - ETA: 0s - loss: 0.0391 - acc: 0.9902\n",
      "Epoch 00028: val_acc did not improve from 0.99306\n",
      "81/81 [==============================] - 4s 45ms/step - loss: 0.0395 - acc: 0.9899 - val_loss: 0.0233 - val_acc: 0.9896\n",
      "Epoch 29/50\n",
      "80/81 [============================>.] - ETA: 0s - loss: 0.0441 - acc: 0.9886\n",
      "Epoch 00029: val_acc did not improve from 0.99306\n",
      "81/81 [==============================] - 4s 47ms/step - loss: 0.0441 - acc: 0.9884 - val_loss: 0.0212 - val_acc: 0.9896\n",
      "Epoch 30/50\n",
      "81/81 [==============================] - ETA: 0s - loss: 0.0418 - acc: 0.9880\n",
      "Epoch 00030: val_acc did not improve from 0.99306\n",
      "81/81 [==============================] - 4s 45ms/step - loss: 0.0418 - acc: 0.9880 - val_loss: 0.0208 - val_acc: 0.9931\n",
      "Epoch 31/50\n",
      "80/81 [============================>.] - ETA: 0s - loss: 0.0392 - acc: 0.9898\n",
      "Epoch 00031: val_acc did not improve from 0.99306\n",
      "81/81 [==============================] - 4s 47ms/step - loss: 0.0388 - acc: 0.9899 - val_loss: 0.0215 - val_acc: 0.9896\n",
      "Epoch 32/50\n",
      "81/81 [==============================] - ETA: 0s - loss: 0.0370 - acc: 0.9903\n",
      "Epoch 00032: val_acc did not improve from 0.99306\n",
      "81/81 [==============================] - 4s 46ms/step - loss: 0.0370 - acc: 0.9903 - val_loss: 0.0216 - val_acc: 0.9931\n",
      "Epoch 33/50\n",
      "81/81 [==============================] - ETA: 0s - loss: 0.0353 - acc: 0.9899\n",
      "Epoch 00033: val_acc did not improve from 0.99306\n",
      "81/81 [==============================] - 4s 48ms/step - loss: 0.0353 - acc: 0.9899 - val_loss: 0.0224 - val_acc: 0.9896\n",
      "Epoch 34/50\n",
      "81/81 [==============================] - ETA: 0s - loss: 0.0348 - acc: 0.9888\n",
      "Epoch 00034: val_acc improved from 0.99306 to 0.99653, saving model to datas/models/right_eye.h5\n",
      "81/81 [==============================] - 4s 45ms/step - loss: 0.0348 - acc: 0.9888 - val_loss: 0.0187 - val_acc: 0.9965\n",
      "Epoch 35/50\n",
      "80/81 [============================>.] - ETA: 0s - loss: 0.0336 - acc: 0.9918\n",
      "Epoch 00035: val_acc did not improve from 0.99653\n",
      "81/81 [==============================] - 4s 48ms/step - loss: 0.0332 - acc: 0.9919 - val_loss: 0.0196 - val_acc: 0.9965\n",
      "Epoch 36/50\n",
      "80/81 [============================>.] - ETA: 0s - loss: 0.0390 - acc: 0.9867\n",
      "Epoch 00036: val_acc did not improve from 0.99653\n",
      "81/81 [==============================] - 4s 48ms/step - loss: 0.0389 - acc: 0.9865 - val_loss: 0.0182 - val_acc: 0.9965\n",
      "Epoch 37/50\n",
      "80/81 [============================>.] - ETA: 0s - loss: 0.0323 - acc: 0.9898\n",
      "Epoch 00037: val_acc did not improve from 0.99653\n",
      "81/81 [==============================] - 4s 45ms/step - loss: 0.0320 - acc: 0.9899 - val_loss: 0.0200 - val_acc: 0.9965\n",
      "Epoch 38/50\n",
      "81/81 [==============================] - ETA: 0s - loss: 0.0356 - acc: 0.9880\n",
      "Epoch 00038: val_acc did not improve from 0.99653\n",
      "81/81 [==============================] - 4s 46ms/step - loss: 0.0356 - acc: 0.9880 - val_loss: 0.0192 - val_acc: 0.9965\n",
      "Epoch 39/50\n",
      "81/81 [==============================] - ETA: 0s - loss: 0.0293 - acc: 0.9907\n",
      "Epoch 00039: val_acc did not improve from 0.99653\n",
      "81/81 [==============================] - 4s 47ms/step - loss: 0.0293 - acc: 0.9907 - val_loss: 0.0169 - val_acc: 0.9965\n",
      "Epoch 40/50\n",
      "80/81 [============================>.] - ETA: 0s - loss: 0.0317 - acc: 0.9922\n",
      "Epoch 00040: val_acc did not improve from 0.99653\n",
      "81/81 [==============================] - 4s 47ms/step - loss: 0.0313 - acc: 0.9923 - val_loss: 0.0174 - val_acc: 0.9965\n",
      "Epoch 41/50\n",
      "80/81 [============================>.] - ETA: 0s - loss: 0.0296 - acc: 0.9914\n",
      "Epoch 00041: val_acc did not improve from 0.99653\n",
      "81/81 [==============================] - 4s 47ms/step - loss: 0.0305 - acc: 0.9911 - val_loss: 0.0197 - val_acc: 0.9965\n",
      "Epoch 42/50\n",
      "81/81 [==============================] - ETA: 0s - loss: 0.0344 - acc: 0.9923\n",
      "Epoch 00042: val_acc did not improve from 0.99653\n",
      "81/81 [==============================] - 4s 45ms/step - loss: 0.0344 - acc: 0.9923 - val_loss: 0.0183 - val_acc: 0.9965\n",
      "Epoch 43/50\n",
      "80/81 [============================>.] - ETA: 0s - loss: 0.0338 - acc: 0.9914\n",
      "Epoch 00043: val_acc did not improve from 0.99653\n",
      "81/81 [==============================] - 4s 48ms/step - loss: 0.0336 - acc: 0.9915 - val_loss: 0.0200 - val_acc: 0.9965\n",
      "Epoch 44/50\n",
      "80/81 [============================>.] - ETA: 0s - loss: 0.0320 - acc: 0.9930\n",
      "Epoch 00044: val_acc did not improve from 0.99653\n",
      "81/81 [==============================] - 4s 45ms/step - loss: 0.0317 - acc: 0.9930 - val_loss: 0.0182 - val_acc: 0.9965\n",
      "Epoch 45/50\n",
      "81/81 [==============================] - ETA: 0s - loss: 0.0270 - acc: 0.9938\n",
      "Epoch 00045: val_acc did not improve from 0.99653\n",
      "81/81 [==============================] - 4s 45ms/step - loss: 0.0270 - acc: 0.9938 - val_loss: 0.0189 - val_acc: 0.9965\n",
      "Epoch 46/50\n",
      "81/81 [==============================] - ETA: 0s - loss: 0.0328 - acc: 0.9907\n",
      "Epoch 00046: val_acc did not improve from 0.99653\n",
      "81/81 [==============================] - 4s 45ms/step - loss: 0.0328 - acc: 0.9907 - val_loss: 0.0188 - val_acc: 0.9965\n",
      "Epoch 47/50\n",
      "81/81 [==============================] - ETA: 0s - loss: 0.0296 - acc: 0.9911\n",
      "Epoch 00047: val_acc did not improve from 0.99653\n",
      "81/81 [==============================] - 4s 47ms/step - loss: 0.0296 - acc: 0.9911 - val_loss: 0.0201 - val_acc: 0.9965\n",
      "Epoch 48/50\n",
      "80/81 [============================>.] - ETA: 0s - loss: 0.0291 - acc: 0.9914\n",
      "Epoch 00048: val_acc did not improve from 0.99653\n",
      "81/81 [==============================] - 4s 47ms/step - loss: 0.0305 - acc: 0.9911 - val_loss: 0.0212 - val_acc: 0.9965\n",
      "Epoch 49/50\n",
      "80/81 [============================>.] - ETA: 0s - loss: 0.0350 - acc: 0.9906\n",
      "Epoch 00049: val_acc did not improve from 0.99653\n",
      "81/81 [==============================] - 4s 47ms/step - loss: 0.0346 - acc: 0.9907 - val_loss: 0.0199 - val_acc: 0.9965\n",
      "Epoch 50/50\n",
      "80/81 [============================>.] - ETA: 0s - loss: 0.0305 - acc: 0.9922\n",
      "Epoch 00050: val_acc did not improve from 0.99653\n",
      "81/81 [==============================] - 4s 46ms/step - loss: 0.0302 - acc: 0.9923 - val_loss: 0.0202 - val_acc: 0.9965\n"
     ]
    },
    {
     "data": {
      "text/plain": [
       "<tensorflow.python.keras.callbacks.History at 0x7f7ae0446c70>"
      ]
     },
     "execution_count": 27,
     "metadata": {},
     "output_type": "execute_result"
    }
   ],
   "source": [
    "model.fit_generator(\n",
    "    right_train_generator, epochs=50, validation_data=right_val_generator,\n",
    "    callbacks=[\n",
    "        ModelCheckpoint('datas/models/right_eye.h5', monitor='val_acc', save_best_only=True, mode='max', verbose=1),\n",
    "        ReduceLROnPlateau(monitor='val_acc', factor=0.2, patience=10, verbose=1, mode='auto', min_lr=1e-05)\n",
    "    ]\n",
    ")"
   ]
  },
  {
   "cell_type": "code",
   "execution_count": 29,
   "metadata": {},
   "outputs": [
    {
     "name": "stdout",
     "output_type": "stream",
     "text": [
      "test acc: 0.9930555555555556\n"
     ]
    },
    {
     "data": {
      "text/plain": [
       "<AxesSubplot:>"
      ]
     },
     "execution_count": 29,
     "metadata": {},
     "output_type": "execute_result"
    },
    {
     "data": {
      "image/png": "[encoded data removed]",
      "text/plain": [
       "<Figure size 432x288 with 2 Axes>"
      ]
     },
     "metadata": {},
     "output_type": "display_data"
    }
   ],
   "source": [
    "from sklearn.metrics import accuracy_score, confusion_matrix\n",
    "import seaborn as sns\n",
    "\n",
    "model = load_model('datas/models/left_eye.h5')\n",
    "\n",
    "y_pred = model.predict(left_x_val/255.)\n",
    "y_pred_logical = (y_pred > 0.5).astype(np.int)\n",
    "\n",
    "print ('test acc: %s' % accuracy_score(left_y_val, y_pred_logical))\n",
    "cm = confusion_matrix(left_y_val, y_pred_logical)\n",
    "sns.heatmap(cm, annot=True)"
   ]
  },
  {
   "cell_type": "code",
   "execution_count": 30,
   "metadata": {},
   "outputs": [
    {
     "name": "stdout",
     "output_type": "stream",
     "text": [
      "test acc: 0.9965277777777778\n"
     ]
    },
    {
     "data": {
      "text/plain": [
       "<AxesSubplot:>"
      ]
     },
     "execution_count": 30,
     "metadata": {},
     "output_type": "execute_result"
    },
    {
     "data": {
      "image/png": "[encoded data removed]",
      "text/plain": [
       "<Figure size 432x288 with 2 Axes>"
      ]
     },
     "metadata": {},
     "output_type": "display_data"
    }
   ],
   "source": [
    "model = load_model('datas/models/right_eye.h5')\n",
    "\n",
    "y_pred = model.predict(right_x_val/255.)\n",
    "y_pred_logical = (y_pred > 0.5).astype(np.int)\n",
    "\n",
    "print ('test acc: %s' % accuracy_score(right_y_val, y_pred_logical))\n",
    "cm = confusion_matrix(right_y_val, y_pred_logical)\n",
    "sns.heatmap(cm, annot=True)"
   ]
  }
 ],
 "metadata": {
  "kernelspec": {
   "display_name": "Python 3",
   "language": "python",
   "name": "python3"
  },
  "language_info": {
   "codemirror_mode": {
    "name": "ipython",
    "version": 3
   },
   "file_extension": ".py",
   "mimetype": "text/x-python",
   "name": "python",
   "nbconvert_exporter": "python",
   "pygments_lexer": "ipython3",
   "version": "3.8.5"
  }
 },
 "nbformat": 4,
 "nbformat_minor": 4
}
