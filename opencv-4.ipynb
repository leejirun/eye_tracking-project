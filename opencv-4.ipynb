{
 "cells": [
  {
   "cell_type": "code",
   "execution_count": 1,
   "metadata": {},
   "outputs": [],
   "source": [
    "import cv2\n",
    "import numpy as np\n",
    "import datetime\n",
    "import dlib #얼굴탐색"
   ]
  },
  {
   "cell_type": "code",
   "execution_count": 2,
   "metadata": {},
   "outputs": [],
   "source": [
    "#얼굴 찾기 호출\n",
    "#dlib.get_frontal_face_detector()로 생성된 \n",
    "#기본 face_detecor 객체는 dlib.fhog_object_detector 객체다.\n",
    "detector = dlib.get_frontal_face_detector()\n",
    "\n",
    "#다운 받은 shape_predictor_68_face_landmarks.dat 불러오기\n",
    "sp = dlib.shape_predictor('./face_data/shape_predictor_68_face_landmarks.dat')\n",
    "\n",
    "#다운 받은 dlib_face_recognition_resnet_model_v1.dat 불러오기\n",
    "facerec = dlib.face_recognition_model_v1('./face_data/dlib_face_recognition_resnet_model_v1.dat')"
   ]
  },
  {
   "cell_type": "code",
   "execution_count": 3,
   "metadata": {},
   "outputs": [],
   "source": [
    "#VideoCapture(0) : 자신의 기기 웹캠 불러옴\n",
    "stream = cv2.VideoCapture(0)"
   ]
  },
  {
   "cell_type": "code",
   "execution_count": 4,
   "metadata": {},
   "outputs": [],
   "source": [
    "while(stream.isOpened()):\n",
    "    ret, frame = stream.read()\n",
    "    \n",
    "    if ret:\n",
    "        now = datetime.datetime.now()\n",
    "        \n",
    "        dets = detector(frame,1)\n",
    "        #print(dets)\n",
    "        \n",
    "        for k,d in enumerate(dets):\n",
    "            #찾은 얼굴 사각형 프레임씌우기\n",
    "            find_face_frame = cv2.rectangle(frame, (d.left(), d.top()), (d.right(), d.bottom()), (0,0,255), 3)\n",
    "        \n",
    "        #frame 크기 조정\n",
    "        #resize_frame = cv2.resize(text_frame ,None, fx=2, fy=2, interpolation=cv2.INTER_LINEAR) # 키울 그림, \n",
    "        \n",
    "        #그림 반전\n",
    "        flip_frame = cv2.flip(frame,1)\n",
    "        text_frame = cv2.putText(flip_frame, str(now), (10,30) ,cv2.FONT_HERSHEY_SIMPLEX,1, (0,255,255), 1, cv2.LINE_AA)\n",
    "        resize_frame = cv2.resize(text_frame , dsize = (1920,1280), interpolation=cv2.INTER_LINEAR) # 키울 그림, dsize - 자신의 해상도 결정 \n",
    "\n",
    "        cv2.imshow('cam', resize_frame)\n",
    "        \n",
    "        if cv2.waitKey(1) & 0xFF == ord('q'):\n",
    "            break\n",
    "    else:\n",
    "        break\n",
    "\n",
    "stream.release()\n",
    "cv2.destroyAllWindows()"
   ]
  }
 ],
 "metadata": {
  "kernelspec": {
   "display_name": "Python 3",
   "language": "python",
   "name": "python3"
  },
  "language_info": {
   "codemirror_mode": {
    "name": "ipython",
    "version": 3
   },
   "file_extension": ".py",
   "mimetype": "text/x-python",
   "name": "python",
   "nbconvert_exporter": "python",
   "pygments_lexer": "ipython3",
   "version": "3.8.5"
  }
 },
 "nbformat": 4,
 "nbformat_minor": 4
}
