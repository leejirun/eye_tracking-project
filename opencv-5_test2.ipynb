{
 "cells": [
  {
   "cell_type": "code",
   "execution_count": 1,
   "metadata": {},
   "outputs": [
    {
     "name": "stdout",
     "output_type": "stream",
     "text": [
      "pygame 2.0.0 (SDL 2.0.12, python 3.8.5)\n",
      "Hello from the pygame community. https://www.pygame.org/contribute.html\n"
     ]
    }
   ],
   "source": [
    "import cv2\n",
    "import numpy as np\n",
    "import datetime\n",
    "import dlib #얼굴탐색\n",
    "import pygame\n",
    "\n",
    "from keras.models import load_model\n",
    "from imutils import face_utils"
   ]
  },
  {
   "cell_type": "code",
   "execution_count": 2,
   "metadata": {},
   "outputs": [],
   "source": [
    "#얼굴 찾기 호출\n",
    "#dlib.get_frontal_face_detector()로 생성된 \n",
    "#기본 face_detecor 객체는 dlib.fhog_object_detector 객체다.\n",
    "detector = dlib.get_frontal_face_detector()\n",
    "\n",
    "#다운 받은 shape_predictor_68_face_landmarks.dat 불러오기\n",
    "predictor = dlib.shape_predictor('./face_data/shape_predictor_68_face_landmarks.dat') #얼굴특징 뽑아내기 눈코입\n",
    "\n",
    "#다운 받은 dlib_face_recognition_resnet_model_v1.dat 불러오기\n",
    "facerec = dlib.face_recognition_model_v1('./face_data/dlib_face_recognition_resnet_model_v1.dat')"
   ]
  },
  {
   "cell_type": "code",
   "execution_count": 3,
   "metadata": {},
   "outputs": [],
   "source": [
    "model = load_model('datas/models/left_eye.h5')"
   ]
  },
  {
   "cell_type": "code",
   "execution_count": 4,
   "metadata": {},
   "outputs": [],
   "source": [
    "#VideoCapture(0) : 자신의 기기 웹캠 불러옴\n",
    "stream = cv2.VideoCapture(0)"
   ]
  },
  {
   "cell_type": "code",
   "execution_count": 5,
   "metadata": {},
   "outputs": [],
   "source": [
    "#sound\n",
    "#import한 pygame 모듈 초기화시킴\n",
    "pygame.init()\n",
    "alarm = pygame.mixer.music\n",
    "alarm.load('./datas/good_morning.ogg') # alarm에 음악 재생 파일 로드\n",
    "# alarm.set_volume(0.7) #100프로는 1.0"
   ]
  },
  {
   "cell_type": "code",
   "execution_count": 6,
   "metadata": {},
   "outputs": [],
   "source": [
    "def crop_eye(img, eye_points):\n",
    "    x1, y1 = np.amin(eye_points, axis=0)\n",
    "    x2, y2 = np.amax(eye_points, axis=0)\n",
    "    cx, cy = (x1 + x2) / 2, (y1 + y2) / 2 #중앙\n",
    "\n",
    "    w = (x2 - x1) * 1.2\n",
    "    h = w * 26 / 34\n",
    "\n",
    "    margin_x, margin_y = w / 2, h / 2\n",
    "\n",
    "    min_x, min_y = int(cx - margin_x), int(cy - margin_y)\n",
    "    max_x, max_y = int(cx + margin_x), int(cy + margin_y)\n",
    "\n",
    "    eye_rect = np.rint([min_x, min_y, max_x, max_y]).astype(np.int)\n",
    "\n",
    "    eye_img = img[eye_rect[1]:eye_rect[3], eye_rect[0]:eye_rect[2]]\n",
    "\n",
    "    return eye_img, eye_rect"
   ]
  },
  {
   "cell_type": "code",
   "execution_count": null,
   "metadata": {},
   "outputs": [],
   "source": [
    "while(stream.isOpened()):\n",
    "    ret, frame = stream.read()\n",
    "    \n",
    "    if ret:\n",
    "        alarm_flags = [] #눈을 두명 모두 감으면 True, 두명 모두 눈을 뜨면 False, 1명 이상 true면 알람 실행\n",
    "        now = datetime.datetime.now()\n",
    "        \n",
    "        #dets = detector(frame,1)\n",
    "        \n",
    "        gray = cv2.cvtColor(frame, cv2.COLOR_RGB2GRAY)\n",
    "\n",
    "        faces = detector(gray)\n",
    "        #print(dets)\n",
    "\n",
    "#gray로 바꾸는 장점: 단일색인 데이터로 학습을 시키기도 했고, 데이터를 학습해 테스트하면 확률을 높일 수 있음\n",
    "        for face in faces:\n",
    "            shapes = predictor(gray, face)\n",
    "            shapes = face_utils.shape_to_np(shapes) #얼굴 특징을 행렬연산하도록 만들어줌\n",
    "\n",
    "            eye_img_l, eye_rect_l = crop_eye(gray, eye_points=shapes[36:42]) #왼쪽 눈 위치정보\n",
    "            eye_img_r, eye_rect_r = crop_eye(gray, eye_points=shapes[42:48]) #오른쪽 눈 위치정보\n",
    "\n",
    "            eye_img_l = cv2.resize(eye_img_l, dsize=(34,26))\n",
    "            eye_img_r = cv2.resize(eye_img_r, dsize=(34,26))\n",
    "            eye_img_r = cv2.flip(eye_img_r, flipCode=1)\n",
    "\n",
    "            eye_input_l = eye_img_l.copy().reshape((1, 26, 34, 1)).astype(np.float32) / 255.\n",
    "            eye_input_r = eye_img_r.copy().reshape((1, 26, 34, 1)).astype(np.float32) / 255.\n",
    "\n",
    "            pred_l = model.predict(eye_input_l)\n",
    "            pred_r = model.predict(eye_input_r)\n",
    "\n",
    "           # print(pred_l, pred_r)\n",
    "\n",
    "            state_l = 1 if pred_l > 0.1 else 0\n",
    "            state_r = 1 if pred_r > 0.1 else 0\n",
    "            \n",
    "            #left\n",
    "            if state_l == 1:\n",
    "                cv2.rectangle(frame, pt1=tuple(eye_rect_l[0:2]), pt2=tuple(eye_rect_l[2:4]), color=(0,255,0), thickness=2)\n",
    "            else:\n",
    "                cv2.rectangle(frame, pt1=tuple(eye_rect_l[0:2]), pt2=tuple(eye_rect_l[2:4]), color=(0,0,255), thickness=2)\n",
    "            \n",
    "            #right\n",
    "            if state_r == 1:\n",
    "                cv2.rectangle(frame, pt1=tuple(eye_rect_r[0:2]), pt2=tuple(eye_rect_r[2:4]), color=(0,255,0), thickness=2)\n",
    "            else:\n",
    "                cv2.rectangle(frame, pt1=tuple(eye_rect_r[0:2]), pt2=tuple(eye_rect_r[2:4]), color=(0,0,255), thickness=2)\n",
    "            \n",
    "            # 알람 실행\n",
    "            if state_l == 0 and state_r == 0:\n",
    "                alarm_flags.append(True)\n",
    "            elif state_l ==1 and state_r == 1:\n",
    "                alarm_flags.append(False)\n",
    "            else:\n",
    "                alarm_flags.append(False)\n",
    "                \n",
    "        \n",
    "        if True in alarm_flags and alarm.get_busy() == 0: # 0이면 음악이 재생되지 않고,아니면 재생중 ->  for 중복재생방지\n",
    "            alarm.play(-1) # -1 : 음악이 반복 재생하게 함, flag라 생각하면 된다.\n",
    "        elif True not in alarm_flags:\n",
    "            alarm.stop()\n",
    "            \n",
    "            \n",
    "        #frame 크기 조정\n",
    "        #resize_frame = cv2.resize(text_frame ,None, fx=2, fy=2, interpolation=cv2.INTER_LINEAR) # 키울 그림, \n",
    "        \n",
    "        #그림 반전\n",
    "        flip_frame = cv2.flip(frame,1)\n",
    "        text_frame = cv2.putText(flip_frame, str(now), (10,30) ,cv2.FONT_HERSHEY_SIMPLEX,1, (0,255,255), 1, cv2.LINE_AA)\n",
    "        resize_frame = cv2.resize(text_frame , dsize = (1920,1280), interpolation=cv2.INTER_LINEAR) # 키울 그림, dsize - 자신의 해상도 결정 \n",
    "\n",
    "        cv2.imshow('cam', resize_frame)\n",
    "        \n",
    "        if cv2.waitKey(1) & 0xFF == ord('q'):\n",
    "            break\n",
    "    else:\n",
    "        break\n",
    "\n",
    "pygame.mixer.quit()\n",
    "stream.release()\n",
    "cv2.destroyAllWindows()"
   ]
  },
  {
   "cell_type": "code",
   "execution_count": null,
   "metadata": {},
   "outputs": [],
   "source": [
    "#end"
   ]
  }
 ],
 "metadata": {
  "kernelspec": {
   "display_name": "Python 3",
   "language": "python",
   "name": "python3"
  },
  "language_info": {
   "codemirror_mode": {
    "name": "ipython",
    "version": 3
   },
   "file_extension": ".py",
   "mimetype": "text/x-python",
   "name": "python",
   "nbconvert_exporter": "python",
   "pygments_lexer": "ipython3",
   "version": "3.8.5"
  }
 },
 "nbformat": 4,
 "nbformat_minor": 4
}
